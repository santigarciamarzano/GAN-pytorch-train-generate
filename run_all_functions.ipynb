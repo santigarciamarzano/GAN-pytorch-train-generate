{
 "cells": [
  {
   "cell_type": "code",
   "execution_count": null,
   "metadata": {},
   "outputs": [],
   "source": [
    "import torch\n",
    "from torch.utils.data import DataLoader\n",
    "from torchvision import datasets, transforms\n",
    "from src.generator import Generator\n",
    "from src.discriminator import Discriminator\n",
    "from src.training import train\n",
    "import torch.optim as optim"
   ]
  },
  {
   "cell_type": "code",
   "execution_count": null,
   "metadata": {},
   "outputs": [],
   "source": [
    "# Fijar semilla para reproducibilidad\n",
    "seed = 42\n",
    "torch.manual_seed(seed)\n",
    "device = torch.device(\"cuda:0\" if torch.cuda.is_available() else \"cpu\")"
   ]
  },
  {
   "cell_type": "code",
   "execution_count": null,
   "metadata": {},
   "outputs": [],
   "source": [
    "# Cargar dataset CIFAR-10\n",
    "transform = transforms.Compose([transforms.ToTensor(), transforms.Normalize((0.5,), (0.5,))])\n",
    "cifar_train = datasets.CIFAR10(root='./data', train=True, download=True, transform=transform)\n",
    "selected_images = [idx for idx, l in enumerate(cifar_train) if l[1] == 5]  # Clase de perros en CIFAR-10 es 5\n",
    "cifar_train = torch.utils.data.Subset(cifar_train, selected_images)\n",
    "batch_size = 64\n",
    "train_loader = DataLoader(cifar_train, batch_size=batch_size, shuffle=True)"
   ]
  },
  {
   "cell_type": "code",
   "execution_count": null,
   "metadata": {},
   "outputs": [],
   "source": [
    "# Instanciar los modelos\n",
    "G = Generator().to(device)\n",
    "D = Discriminator().to(device)"
   ]
  },
  {
   "cell_type": "code",
   "execution_count": null,
   "metadata": {},
   "outputs": [],
   "source": [
    "# Definir optimizadores\n",
    "disc_opt = optim.Adam(D.parameters(), lr=0.0002, betas=(0.5, 0.999))\n",
    "gen_opt = optim.Adam(G.parameters(), lr=0.00014, betas=(0.5, 0.999))"
   ]
  },
  {
   "cell_type": "code",
   "execution_count": null,
   "metadata": {},
   "outputs": [],
   "source": [
    "# Entrenar la GAN\n",
    "train(D, G, disc_opt, gen_opt, train_loader, batch_size, epochs=210, device=device)"
   ]
  }
 ],
 "metadata": {
  "language_info": {
   "name": "python"
  }
 },
 "nbformat": 4,
 "nbformat_minor": 2
}
